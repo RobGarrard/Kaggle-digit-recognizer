{
 "cells": [
  {
   "cell_type": "markdown",
   "metadata": {},
   "source": [
    "# Kaggle Digit Recognizer\n",
    "\n",
    "## Simple CNN\n",
    "\n",
    "Here we'll build a simple CNN with two conv/maxpool layers and two dense layers."
   ]
  },
  {
   "cell_type": "code",
   "execution_count": 1,
   "metadata": {},
   "outputs": [],
   "source": [
    "import numpy as np\n",
    "import pandas as pd\n",
    "import PIL\n",
    "import time\n",
    "import datetime\n",
    "\n",
    "import torch\n",
    "import torchvision\n",
    "import torchsummary\n",
    "\n",
    "import matplotlib\n",
    "import matplotlib.pyplot as plt\n",
    "%matplotlib inline\n",
    "\n",
    "from IPython import display\n",
    "\n",
    "notebook_start = time.time()"
   ]
  },
  {
   "cell_type": "code",
   "execution_count": 2,
   "metadata": {},
   "outputs": [
    {
     "name": "stdout",
     "output_type": "stream",
     "text": [
      "Using 1 gpus.\n"
     ]
    }
   ],
   "source": [
    "device = torch.device('cuda:0' if torch.cuda.is_available() else 'cpu')\n",
    "print('Using {0} gpus.'.format(torch.cuda.device_count()))"
   ]
  },
  {
   "cell_type": "markdown",
   "metadata": {},
   "source": [
    "### Constants"
   ]
  },
  {
   "cell_type": "code",
   "execution_count": 3,
   "metadata": {},
   "outputs": [],
   "source": [
    "BATCH_SIZE = 256\n",
    "IMG_SIZE = (1, 28, 28)"
   ]
  },
  {
   "cell_type": "markdown",
   "metadata": {},
   "source": [
    "### MNIST data set\n",
    "\n",
    "Rather than use the CSV file Kaggle provides with training data, let's use Pytorch's built in MNIST data (that way we won't have to define our own custom dataset object).\n",
    "\n",
    "Note that we'll load the test data set, but we only use that for estimating our test error, it doesn't factor into training decisions."
   ]
  },
  {
   "cell_type": "code",
   "execution_count": 4,
   "metadata": {},
   "outputs": [
    {
     "name": "stdout",
     "output_type": "stream",
     "text": [
      "Training data: 60000 obs\n",
      "Validation data: 10000 obs.\n"
     ]
    }
   ],
   "source": [
    "transforms = torchvision.transforms.Compose([torchvision.transforms.ToTensor(),\n",
    "                                             torchvision.transforms.Normalize((0.1307,), (0.3081,))\n",
    "                                            ])\n",
    "\n",
    "train_data = torchvision.datasets.MNIST(root='./MNIST_data/',\n",
    "                                        train=True,\n",
    "                                        download=True,\n",
    "                                        transform=transforms)\n",
    "TRAIN_SAMPLE_SIZE = len(train_data.data)\n",
    "\n",
    "\n",
    "val_data = torchvision.datasets.MNIST(root='./MNIST_data/',\n",
    "                                        train=False,\n",
    "                                        download=True,\n",
    "                                        transform=transforms)\n",
    "VAL_SAMPLE_SIZE = len(val_data.data)\n",
    "\n",
    "print('Training data: {0} obs\\nValidation data: {1} obs.'.format(TRAIN_SAMPLE_SIZE, VAL_SAMPLE_SIZE))\n"
   ]
  },
  {
   "cell_type": "code",
   "execution_count": 5,
   "metadata": {},
   "outputs": [],
   "source": [
    "train_dataloader = torch.utils.data.DataLoader(train_data, batch_size=BATCH_SIZE, shuffle=True, drop_last=True)\n",
    "\n",
    "val_dataloader = torch.utils.data.DataLoader(val_data, batch_size=BATCH_SIZE, shuffle=False, drop_last=True)"
   ]
  },
  {
   "cell_type": "markdown",
   "metadata": {},
   "source": [
    "Let's plot an example image."
   ]
  },
  {
   "cell_type": "code",
   "execution_count": 6,
   "metadata": {},
   "outputs": [],
   "source": [
    "ix, (X, y) = next(enumerate(train_dataloader))"
   ]
  },
  {
   "cell_type": "code",
   "execution_count": 7,
   "metadata": {},
   "outputs": [
    {
     "data": {
      "image/png": "[encoded data removed]",
      "text/plain": [
       "<Figure size 432x288 with 1 Axes>"
      ]
     },
     "metadata": {
      "needs_background": "light"
     },
     "output_type": "display_data"
    }
   ],
   "source": [
    "plt.imshow(X[0].squeeze(), cmap='gray_r')\n",
    "plt.title('Digit = {0}'.format(y[0]))\n",
    "plt.show()"
   ]
  },
  {
   "cell_type": "markdown",
   "metadata": {},
   "source": [
    "### Construct CNN\n",
    "\n",
    "Let's have the CNN structure be:\n",
    "\n",
    "    Convolution (32 filters) -> BatchNorm -> ReLU -> Maxpool -> \n",
    "    Convolution (64 filters) -> BatchNorm -> ReLU -> Maxpool -> \n",
    "    Flatten -> \n",
    "    Dense(256) -> ReLU -> Dropout -> \n",
    "    Dense(256) -> ReLU -> Dropout -> \n",
    "    Dense(10)"
   ]
  },
  {
   "cell_type": "code",
   "execution_count": 8,
   "metadata": {},
   "outputs": [],
   "source": [
    "class CNN(torch.nn.Module):\n",
    "    def __init__(self):\n",
    "        super(CNN, self).__init__()\n",
    "        \n",
    "        # Conv block 1\n",
    "        self.conv1_conv = torch.nn.Conv2d(in_channels=1,\n",
    "                                          out_channels=32,\n",
    "                                          kernel_size=3,\n",
    "                                          padding=1,\n",
    "                                          stride=1)\n",
    "        self.conv1_batchnorm = torch.nn.BatchNorm2d(32)\n",
    "        self.conv1_relu = torch.nn.ReLU()\n",
    "        self.conv1_maxpool = torch.nn.MaxPool2d(kernel_size=2)\n",
    "                \n",
    "        # Conv block 2\n",
    "        self.conv2_conv = torch.nn.Conv2d(in_channels=32,\n",
    "                                          out_channels=64,\n",
    "                                          kernel_size=3,\n",
    "                                          padding=1,\n",
    "                                          stride=1)\n",
    "        self.conv2_batchnorm = torch.nn.BatchNorm2d(64)\n",
    "        self.conv2_relu = torch.nn.ReLU()\n",
    "        self.conv2_maxpool = torch.nn.MaxPool2d(kernel_size=2)\n",
    "                \n",
    "        # Dense block 1\n",
    "        self.dense1_dense = torch.nn.Linear(in_features=64*7*7, out_features=256)\n",
    "        self.dense1_relu = torch.nn.ReLU()\n",
    "        self.dense1_dropout = torch.nn.Dropout(.4)\n",
    "        \n",
    "        # Dense block 2\n",
    "        self.dense2_dense = torch.nn.Linear(in_features=256, out_features=256)\n",
    "        self.dense2_relu = torch.nn.ReLU()\n",
    "        self.dense2_dropout = torch.nn.Dropout(.4)\n",
    "        \n",
    "        # Output layer\n",
    "        self.output = torch.nn.Linear(in_features=256, out_features=10)\n",
    "         \n",
    "        return None\n",
    "    \n",
    "    def forward(self, x):\n",
    "        \n",
    "        # Conv 1\n",
    "        x = self.conv1_conv(x)\n",
    "        x = self.conv1_batchnorm(x)\n",
    "        x = self.conv1_relu(x)\n",
    "        x = self.conv1_maxpool(x)\n",
    "                \n",
    "        # Conv 2\n",
    "        x = self.conv2_conv(x)\n",
    "        x = self.conv2_batchnorm(x)\n",
    "        x = self.conv2_relu(x)\n",
    "        x = self.conv2_maxpool(x)\n",
    "        \n",
    "        # Flatten\n",
    "        x = torch.flatten(x, start_dim=1)\n",
    "        \n",
    "        # Dense 1\n",
    "        x = self.dense1_dense(x)\n",
    "        x = self.dense1_relu(x)\n",
    "        x = self.dense1_dropout(x)\n",
    "        \n",
    "        # Dense 2\n",
    "        x = self.dense2_dense(x)\n",
    "        x = self.dense2_relu(x)\n",
    "        x = self.dense2_dropout(x)\n",
    "        \n",
    "        # Output\n",
    "        x = self.output(x)\n",
    "        \n",
    "        return x\n",
    "        "
   ]
  },
  {
   "cell_type": "markdown",
   "metadata": {},
   "source": [
    "Instantiate the network"
   ]
  },
  {
   "cell_type": "code",
   "execution_count": 9,
   "metadata": {},
   "outputs": [],
   "source": [
    "net = CNN().to(device)"
   ]
  },
  {
   "cell_type": "markdown",
   "metadata": {},
   "source": [
    "Display the architecture"
   ]
  },
  {
   "cell_type": "code",
   "execution_count": 10,
   "metadata": {},
   "outputs": [
    {
     "name": "stdout",
     "output_type": "stream",
     "text": [
      "----------------------------------------------------------------\n",
      "        Layer (type)               Output Shape         Param #\n",
      "================================================================\n",
      "            Conv2d-1           [-1, 32, 28, 28]             320\n",
      "       BatchNorm2d-2           [-1, 32, 28, 28]              64\n",
      "              ReLU-3           [-1, 32, 28, 28]               0\n",
      "         MaxPool2d-4           [-1, 32, 14, 14]               0\n",
      "            Conv2d-5           [-1, 64, 14, 14]          18,496\n",
      "       BatchNorm2d-6           [-1, 64, 14, 14]             128\n",
      "              ReLU-7           [-1, 64, 14, 14]               0\n",
      "         MaxPool2d-8             [-1, 64, 7, 7]               0\n",
      "            Linear-9                  [-1, 256]         803,072\n",
      "             ReLU-10                  [-1, 256]               0\n",
      "          Dropout-11                  [-1, 256]               0\n",
      "           Linear-12                  [-1, 256]          65,792\n",
      "             ReLU-13                  [-1, 256]               0\n",
      "          Dropout-14                  [-1, 256]               0\n",
      "           Linear-15                   [-1, 10]           2,570\n",
      "================================================================\n",
      "Total params: 890,442\n",
      "Trainable params: 890,442\n",
      "Non-trainable params: 0\n",
      "----------------------------------------------------------------\n",
      "Input size (MB): 0.00\n",
      "Forward/backward pass size (MB): 0.94\n",
      "Params size (MB): 3.40\n",
      "Estimated Total Size (MB): 4.34\n",
      "----------------------------------------------------------------\n"
     ]
    }
   ],
   "source": [
    "torchsummary.summary(net, input_size=(1, 28, 28, ))"
   ]
  },
  {
   "cell_type": "markdown",
   "metadata": {},
   "source": [
    "### Training function"
   ]
  },
  {
   "cell_type": "code",
   "execution_count": 11,
   "metadata": {},
   "outputs": [],
   "source": [
    "criterion = torch.nn.CrossEntropyLoss()\n",
    "optimizer = torch.optim.Adam(net.parameters(), lr=1e-3)\n",
    "scheduler = torch.optim.lr_scheduler.ExponentialLR(optimizer, gamma=0.95)"
   ]
  },
  {
   "cell_type": "code",
   "execution_count": 12,
   "metadata": {},
   "outputs": [],
   "source": [
    "class ModelTrainer:\n",
    "    '''Train a neural net while keeping track of running loss/accuracy.'''\n",
    "    \n",
    "    def __init__(self, model, criterion, optimizer, train_dataloader, val_dataloader=None):\n",
    "        '''\n",
    "        Args:\n",
    "        model (torch neural net): network to be trained.\n",
    "        criterion (torch.nn loss function): loss function.\n",
    "        optimizer (torch.optim optimizer): optimizer.\n",
    "        '''\n",
    "        \n",
    "        # User specified parameters\n",
    "        self.model = model\n",
    "        self.train_dataloader = train_dataloader\n",
    "        self.val_dataloader = val_dataloader\n",
    "        self.criterion = criterion\n",
    "        self.optimizer = optimizer\n",
    "        \n",
    "        # Values to keep track of\n",
    "        self.train_loss = []\n",
    "        self.train_acc = []\n",
    "        self.val_loss = []\n",
    "        self.val_acc = []\n",
    "        \n",
    "        # Constants\n",
    "        self.NUM_TRAIN_BATCHES = len(self.train_dataloader)\n",
    "        self.NUM_VAL_BATCHES = len(self.val_dataloader)\n",
    "        self.epoch_completion_time = 0.0\n",
    "        \n",
    "        return None\n",
    "    \n",
    "    def train(self):\n",
    "        ''' Train the model on the whole data set once.'''\n",
    "        \n",
    "        # Set training mode\n",
    "        self.model.train();\n",
    "        \n",
    "        start_time = time.time()\n",
    "        for batch_no, (images, labels) in enumerate(self.train_dataloader):\n",
    "            self.optimizer.zero_grad()\n",
    "\n",
    "            images, labels = images.to(device), labels.to(device)\n",
    "\n",
    "            # Run images through the net\n",
    "            predicted_labels = self.model(images)\n",
    "\n",
    "            # Determine loss and run backprop\n",
    "            loss = self.criterion(predicted_labels, labels)\n",
    "            loss.backward()\n",
    "            self.optimizer.step()\n",
    "            \n",
    "            \n",
    "        end_time = time.time()\n",
    "        self.epoch_completion_time = end_time - start_time\n",
    "        \n",
    "        return None\n",
    "\n",
    "    def trainloss(self):\n",
    "        '''Evaluates loss and accuracy on training set.\n",
    "        Note that we don't do this in the training loop itself because\n",
    "        dropout is on while training, which can result in validation loss \n",
    "        being better than training loss. Here we turn off dropout to evaluate.\n",
    "        That way the validation loss should always be strictly larger than \n",
    "        training loss.'''\n",
    "        \n",
    "        # Set evaluation model\n",
    "        self.model.eval();\n",
    "        \n",
    "        running_loss = 0.0\n",
    "        running_acc = 0.0\n",
    "        \n",
    "        for batch_no, (images, labels) in enumerate(self.train_dataloader):\n",
    "            images, labels = images.to(device), labels.to(device)\n",
    "            \n",
    "            predicted_logits = self.model(images)\n",
    "            predicted_labels = torch.argmax(predicted_logits, dim=1)\n",
    "            \n",
    "            loss = self.criterion(predicted_logits, labels)\n",
    "            running_loss += (1/BATCH_SIZE) * loss.item()\n",
    "            \n",
    "            running_acc += (1/BATCH_SIZE) * torch.sum(predicted_labels == labels).item()\n",
    "            \n",
    "        self.train_loss.append(running_loss/self.NUM_TRAIN_BATCHES)\n",
    "        self.train_acc.append(running_acc/self.NUM_TRAIN_BATCHES)    \n",
    "        \n",
    "        return None\n",
    "    \n",
    "    \n",
    "    def valloss(self):\n",
    "        '''Evaluates loss and accuracy on validation set'''\n",
    "        assert self.val_dataloader != None\n",
    "        \n",
    "        # Set evaluation model\n",
    "        self.model.eval();\n",
    "        \n",
    "        running_loss = 0.0\n",
    "        running_acc = 0.0\n",
    "        \n",
    "        for batch_no, (images, labels) in enumerate(self.val_dataloader):\n",
    "            images, labels = images.to(device), labels.to(device)\n",
    "            \n",
    "            predicted_logits = self.model(images)\n",
    "            predicted_labels = torch.argmax(predicted_logits, dim=1)\n",
    "            \n",
    "            loss = self.criterion(predicted_logits, labels)\n",
    "            running_loss += (1/BATCH_SIZE) * loss.item()\n",
    "            \n",
    "            running_acc += (1/BATCH_SIZE) * torch.sum(predicted_labels == labels).item()\n",
    "            \n",
    "        self.val_loss.append(running_loss/self.NUM_VAL_BATCHES)\n",
    "        self.val_acc.append(running_acc/self.NUM_VAL_BATCHES)    \n",
    "        \n",
    "        return None\n",
    "    \n",
    "    def plot_metrics(self):\n",
    "        '''Plots training and validation metrics'''\n",
    "        \n",
    "        fig, ax = plt.subplots(1, 2, figsize=(2*1.618*4, 4))\n",
    "        \n",
    "        ax[0].plot(self.train_loss, 'o-', label='Train')\n",
    "        ax[0].plot(self.val_loss, 'o-', label='Val')\n",
    "        ax[0].set_title('Loss')\n",
    "        \n",
    "        ax[1].plot(self.train_acc, 'o-', label='Train')\n",
    "        ax[1].plot(self.val_acc ,'o-', label='Val')\n",
    "        ax[1].set_title('Accuracy')\n",
    "        \n",
    "        plt.legend()\n",
    "        \n",
    "        # Clear current output and show graph\n",
    "        display.display(plt.gcf())\n",
    "        display.clear_output(wait=True)\n",
    "        time.sleep(0.05)\n",
    "        \n",
    "        plt.show()\n",
    "        \n",
    "        return None"
   ]
  },
  {
   "cell_type": "markdown",
   "metadata": {},
   "source": [
    "### Training loop"
   ]
  },
  {
   "cell_type": "code",
   "execution_count": 13,
   "metadata": {},
   "outputs": [],
   "source": [
    "trainer = ModelTrainer(net, criterion, optimizer, train_dataloader, val_dataloader)"
   ]
  },
  {
   "cell_type": "code",
   "execution_count": 14,
   "metadata": {},
   "outputs": [],
   "source": [
    "epochs = 100"
   ]
  },
  {
   "cell_type": "code",
   "execution_count": 15,
   "metadata": {},
   "outputs": [
    {
     "data": {
      "image/png": "[encoded data removed]",
      "text/plain": [
       "<Figure size 931.968x288 with 2 Axes>"
      ]
     },
     "metadata": {
      "needs_background": "light"
     },
     "output_type": "display_data"
    },
    {
     "name": "stdout",
     "output_type": "stream",
     "text": [
      "Completed 100 out of 100 epochs in 00:27:25.\n"
     ]
    }
   ],
   "source": [
    "start_time = time.time()\n",
    "\n",
    "for epoch in range(epochs):\n",
    "    trainer.train()\n",
    "    trainer.trainloss()\n",
    "    trainer.valloss()\n",
    "    scheduler.step()\n",
    "    \n",
    "    trainer.plot_metrics()\n",
    "    \n",
    "    time_delta = time.strftime(\"%H:%M:%S\", time.gmtime(time.time() - start_time))\n",
    "    print(\"Completed {0} out of {1} epochs in {2}.\".format(epoch + 1, epochs, time_delta))"
   ]
  },
  {
   "cell_type": "code",
   "execution_count": 16,
   "metadata": {},
   "outputs": [
    {
     "name": "stdout",
     "output_type": "stream",
     "text": [
      "Final validation accuracy: 0.9941\n"
     ]
    }
   ],
   "source": [
    "print('Final validation accuracy: {0:.4f}'.format(trainer.val_acc[-1]))"
   ]
  },
  {
   "cell_type": "markdown",
   "metadata": {},
   "source": [
    "Note that the Kaggle score is 0.99928. Recall that Kaggle only uses 25% of the test set for evaluating."
   ]
  },
  {
   "cell_type": "markdown",
   "metadata": {},
   "source": [
    "### Predict Kaggle images "
   ]
  },
  {
   "cell_type": "markdown",
   "metadata": {},
   "source": [
    "Let's create a custom data loader to draw batches from the Kaggle test set."
   ]
  },
  {
   "cell_type": "code",
   "execution_count": 17,
   "metadata": {},
   "outputs": [],
   "source": [
    "class KaggleTestSet(torch.utils.data.Dataset):\n",
    "    '''Torch Dataset class to draw samples from Kaggle digit recognizer test set.'''\n",
    "    \n",
    "    def __init__(self, path, transforms):\n",
    "        self.test_data = pd.read_csv(path)\n",
    "        self.transforms = transforms\n",
    "        return None\n",
    "    \n",
    "    def __len__(self):\n",
    "        return len(self.test_data)\n",
    "    \n",
    "    def __getitem__(self, idx):\n",
    "        if torch.is_tensor(idx):\n",
    "            idx = idx.to_list()\n",
    "            \n",
    "        image = self.test_data.iloc[idx, :].astype('float')\n",
    "        image = torch.tensor(image).reshape(1, 28, 28)\n",
    "        \n",
    "        # Normalize to be same as inputs to our CNN\n",
    "        image = torchvision.transforms.Normalize((0.1307,), (0.3081,))(image)\n",
    "        \n",
    "        \n",
    "        return image\n",
    "        \n",
    "    "
   ]
  },
  {
   "cell_type": "code",
   "execution_count": 18,
   "metadata": {},
   "outputs": [],
   "source": [
    "path = './kaggle_data/test.csv'\n",
    "kaggle_test_set = KaggleTestSet(path, transforms)"
   ]
  },
  {
   "cell_type": "code",
   "execution_count": 19,
   "metadata": {},
   "outputs": [],
   "source": [
    "kaggle_dataloader = torch.utils.data.DataLoader(kaggle_test_set, batch_size=512, shuffle=False)"
   ]
  },
  {
   "cell_type": "code",
   "execution_count": 20,
   "metadata": {},
   "outputs": [],
   "source": [
    "net.eval();\n",
    "predicted_label = []\n",
    "\n",
    "for batch_no, images in enumerate(kaggle_dataloader):\n",
    "    \n",
    "    images = images.to(device)\n",
    "    logit = net(images)\n",
    "    predicted_label.extend(torch.argmax(logit, dim=1).to('cpu').numpy())\n",
    "    "
   ]
  },
  {
   "cell_type": "markdown",
   "metadata": {},
   "source": [
    "Write predictions to a csv."
   ]
  },
  {
   "cell_type": "code",
   "execution_count": 21,
   "metadata": {},
   "outputs": [
    {
     "data": {
      "text/html": [
       "<div>\n",
       "<style scoped>\n",
       "    .dataframe tbody tr th:only-of-type {\n",
       "        vertical-align: middle;\n",
       "    }\n",
       "\n",
       "    .dataframe tbody tr th {\n",
       "        vertical-align: top;\n",
       "    }\n",
       "\n",
       "    .dataframe thead th {\n",
       "        text-align: right;\n",
       "    }\n",
       "</style>\n",
       "<table border=\"1\" class=\"dataframe\">\n",
       "  <thead>\n",
       "    <tr style=\"text-align: right;\">\n",
       "      <th></th>\n",
       "      <th>ImageId</th>\n",
       "      <th>Label</th>\n",
       "    </tr>\n",
       "  </thead>\n",
       "  <tbody>\n",
       "    <tr>\n",
       "      <td>0</td>\n",
       "      <td>1</td>\n",
       "      <td>2</td>\n",
       "    </tr>\n",
       "    <tr>\n",
       "      <td>1</td>\n",
       "      <td>2</td>\n",
       "      <td>0</td>\n",
       "    </tr>\n",
       "    <tr>\n",
       "      <td>2</td>\n",
       "      <td>3</td>\n",
       "      <td>9</td>\n",
       "    </tr>\n",
       "    <tr>\n",
       "      <td>3</td>\n",
       "      <td>4</td>\n",
       "      <td>0</td>\n",
       "    </tr>\n",
       "    <tr>\n",
       "      <td>4</td>\n",
       "      <td>5</td>\n",
       "      <td>3</td>\n",
       "    </tr>\n",
       "  </tbody>\n",
       "</table>\n",
       "</div>"
      ],
      "text/plain": [
       "   ImageId  Label\n",
       "0        1      2\n",
       "1        2      0\n",
       "2        3      9\n",
       "3        4      0\n",
       "4        5      3"
      ]
     },
     "execution_count": 21,
     "metadata": {},
     "output_type": "execute_result"
    }
   ],
   "source": [
    "ImageId = [i + 1  for i in range(len(predicted_label))]\n",
    "df = pd.DataFrame({'ImageId': ImageId, 'Label': predicted_label})\n",
    "df.head()"
   ]
  },
  {
   "cell_type": "code",
   "execution_count": 22,
   "metadata": {},
   "outputs": [],
   "source": [
    "df.to_csv('./kaggle_data/predictions.csv', index=False)"
   ]
  },
  {
   "cell_type": "markdown",
   "metadata": {},
   "source": [
    "Check the predictions are okay just to make sure we normalized the kaggle images correctly."
   ]
  },
  {
   "cell_type": "code",
   "execution_count": 23,
   "metadata": {},
   "outputs": [
    {
     "data": {
      "image/png": "[encoded data removed]",
      "text/plain": [
       "<Figure size 432x288 with 1 Axes>"
      ]
     },
     "metadata": {
      "needs_background": "light"
     },
     "output_type": "display_data"
    }
   ],
   "source": [
    "net.eval();\n",
    "batch_no, X = next(enumerate(kaggle_dataloader))\n",
    "\n",
    "X = X[0]\n",
    "y_hat = torch.argmax(net(X.to(device).unsqueeze(0)), dim=1).item()\n",
    "\n",
    "plt.imshow(X.squeeze(), cmap='gray_r')\n",
    "plt.title('Pred = {0}'.format(y_hat))\n",
    "plt.show()"
   ]
  },
  {
   "cell_type": "code",
   "execution_count": 24,
   "metadata": {},
   "outputs": [
    {
     "name": "stdout",
     "output_type": "stream",
     "text": [
      "Notebook run time: 00:29:57\n"
     ]
    }
   ],
   "source": [
    "notebook_execution_time = time.strftime(\"%H:%M:%S\", time.gmtime(time.time() - notebook_start))\n",
    "\n",
    "print('Notebook run time: {0}'.format(notebook_execution_time))"
   ]
  },
  {
   "cell_type": "markdown",
   "metadata": {},
   "source": [
    "When uploaded to Kaggle we got an accuracy of 0.99928 on the test set, which landed us at 80th place at time of submission. Not bad, but let's try to do better."
   ]
  },
  {
   "cell_type": "code",
   "execution_count": null,
   "metadata": {},
   "outputs": [],
   "source": []
  }
 ],
 "metadata": {
  "kernelspec": {
   "display_name": "Python 3",
   "language": "python",
   "name": "python3"
  },
  "language_info": {
   "codemirror_mode": {
    "name": "ipython",
    "version": 3
   },
   "file_extension": ".py",
   "mimetype": "text/x-python",
   "name": "python",
   "nbconvert_exporter": "python",
   "pygments_lexer": "ipython3",
   "version": "3.7.3"
  }
 },
 "nbformat": 4,
 "nbformat_minor": 4
}
